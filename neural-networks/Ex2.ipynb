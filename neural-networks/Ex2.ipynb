{
 "cells": [
  {
   "cell_type": "code",
   "execution_count": null,
   "metadata": {},
   "outputs": [],
   "source": [
    "import numpy as np\n",
    "\n",
    "# Number of training iterations\n",
    "NUM_ITERATIONS = 50\n",
    "# Threshold for 0/1 classification\n",
    "THRESHOLD = 0.0\n",
    "# Learning rate\n",
    "LEARNING_RATE = 0.01\n",
    "\n",
    "# Data (both training and testing)\n",
    "input_data = np.linspace(0, 5, 1000)\n",
    "\n",
    "\n",
    "def output(n):\n",
    "    return train_value_function(n) + 0.5 * train_value_function(n - 1) - 1.5 * train_value_function(n - 2)\n",
    "\n",
    "\n",
    "def train_value_function(t):\n",
    "    return np.sin(10 * np.sin(t) * t)\n",
    "\n",
    "\n",
    "def sigmoid(x):\n",
    "    return np.power((1 + np.exp(-x)), -1)\n",
    "\n",
    "\n",
    "def tanh(x):\n",
    "    return 2 / (1 + np.exp(-2 * x)) - 1\n",
    "\n",
    "\n",
    "# Create perceptron weights (random weights)\n",
    "weights = np.random.rand(4)\n",
    "\n",
    "# Train perceptron\n",
    "for i in range(2, len(input_data)):\n",
    "    # Calculate predictions with current weights\n",
    "    # print(np.concatenate((input_data[i - 2:i+1], [1])))\n",
    "    current_input = np.concatenate((input_data[i - 2:i + 1], [1]))\n",
    "    predictions = np.dot(current_input, weights)\n",
    "\n",
    "    output_value = tanh(train_value_function(i))\n",
    "    \n",
    "    # # Calculate accuracy (not needed for training, but to track the learning progress)\n",
    "    accuracy = np.mean(predictions == output_value)\n",
    "    # # Print the accuracy\n",
    "    print(\"Iteration %d: Acc %f \\t %s %s\" % (i, accuracy, str(predictions), str(output_value)))\n",
    "    #\n",
    "    # # Update weights according to update rule\n",
    "    weights = weights + LEARNING_RATE * (output_value - predictions) * current_input\n",
    "    # print(weights)\n",
    "\n",
    "# Print weights for inspection\n",
    "print(weights)\n"
   ]
  }
 ],
 "metadata": {
  "kernelspec": {
   "display_name": "Python 3",
   "language": "python",
   "name": "python3"
  },
  "language_info": {
   "codemirror_mode": {
    "name": "ipython",
    "version": 3
   },
   "file_extension": ".py",
   "mimetype": "text/x-python",
   "name": "python",
   "nbconvert_exporter": "python",
   "pygments_lexer": "ipython3",
   "version": "3.6.6"
  }
 },
 "nbformat": 4,
 "nbformat_minor": 2
}
