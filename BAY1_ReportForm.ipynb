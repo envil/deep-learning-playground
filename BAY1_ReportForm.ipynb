{
  "nbformat": 4,
  "nbformat_minor": 0,
  "metadata": {
    "colab": {
      "name": "BAY1_ReportForm.ipynb",
      "version": "0.3.2",
      "provenance": [],
      "include_colab_link": true
    },
    "kernelspec": {
      "name": "python3",
      "display_name": "Python 3"
    }
  },
  "cells": [
    {
      "cell_type": "markdown",
      "metadata": {
        "id": "view-in-github",
        "colab_type": "text"
      },
      "source": [
        "<a href=\"https://colab.research.google.com/github/envil/deep-learning-playground/blob/master/BAY1_ReportForm.ipynb\" target=\"_parent\"><img src=\"https://colab.research.google.com/assets/colab-badge.svg\" alt=\"Open In Colab\"/></a>"
      ]
    },
    {
      "metadata": {
        "id": "9KTp9MRZV5c1",
        "colab_type": "text"
      },
      "cell_type": "markdown",
      "source": [
        "# Bayensian Inference 1: Project Report\n",
        "\n",
        "### Title: \"The project title\"\n",
        "\n",
        "### Name: \"The Author name\"\n"
      ]
    },
    {
      "metadata": {
        "id": "FOWuvoRrkHNb",
        "colab_type": "text"
      },
      "cell_type": "markdown",
      "source": [
        "## Abstract\n",
        "\n",
        "> _Writing a short summary of your methods and the significant of your results, a succinct abstract is an art_"
      ]
    },
    {
      "metadata": {
        "id": "1xVTgad0mdpj",
        "colab_type": "text"
      },
      "cell_type": "markdown",
      "source": [
        "## Introduction\n",
        "\n",
        "Introduce your dataset, then the related problem or the question, and the hypothesis for solving the issues.\n",
        "\n",
        "Bonus point of your could provide short information of other approaches to the same problem\n",
        "\n",
        "Introduce your method for building the model, short explain why given method is selected, what is it merits\n",
        "\n",
        "Some text about the code packages you are going to use for the project (which language and libraries are used)\n",
        "\n",
        "What is the goal you want to achieve after fininshing the project\n",
        "\n",
        "* Solving the specific problem\n",
        "* Learn how to build probabilic model for real world tasks\n",
        "* ..."
      ]
    },
    {
      "metadata": {
        "id": "wVtiISezsyQa",
        "colab_type": "code",
        "colab": {}
      },
      "cell_type": "code",
      "source": [
        "import numpy as np\n",
        "import matplotlib as mpl\n",
        "from matplotlib import pyplot as plt"
      ],
      "execution_count": 0,
      "outputs": []
    },
    {
      "metadata": {
        "id": "YtBpp8W1pmEP",
        "colab_type": "text"
      },
      "cell_type": "markdown",
      "source": [
        "## Methods\n",
        "\n",
        "Short description of which methods have been used for processing the data, building the model and doing the inference\n",
        "\n",
        "\n"
      ]
    },
    {
      "metadata": {
        "id": "Tm9VRv-Iq0qP",
        "colab_type": "text"
      },
      "cell_type": "markdown",
      "source": [
        "### Dataset description and processing\n",
        "\n",
        "What are the variables in the given dataset?\n",
        "\n",
        "Are they random variable or deterministic variable? What are their distributions? \n",
        "\n",
        "What is the relation between the variable, \n",
        "\n",
        "* which one is observed ?\n",
        "* which one is target variable ?\n",
        "* which one is latent variable ?\n",
        "* How all these variables could be linked to solve our problem ?"
      ]
    },
    {
      "metadata": {
        "id": "YAFi8Ss0sGk2",
        "colab_type": "code",
        "outputId": "74e4fb2d-9de1-4b15-cb4c-d2d6b461be8a",
        "colab": {
          "base_uri": "https://localhost:8080/",
          "height": 362
        }
      },
      "cell_type": "code",
      "source": [
        "# plot the variable distribution with some preprocessing here to \n",
        "# support your assumption and hypothesis,  but don't be\n",
        "# restricted to this code, you should think about relevant way\n",
        "# of explaining your own hypothesis\n",
        "x = 1.5 * np.random.randn(5218) + 8\n",
        "x = np.log1p(x)\n",
        "y = np.random.rand(5218) - x + np.random.randn(5218)\n",
        "plt.subplot(1, 2, 1)\n",
        "plt.hist(x)\n",
        "plt.title(\"X\")\n",
        "plt.subplot(1, 2, 2)\n",
        "plt.hist(y)\n",
        "_ = plt.title(\"Y\")"
      ],
      "execution_count": 0,
      "outputs": [
        {
          "output_type": "display_data",
          "data": {
            "image/png": "[encoded data removed]",
            "text/plain": [
              "<matplotlib.figure.Figure at 0x7f388a6824e0>"
            ]
          },
          "metadata": {
            "tags": []
          }
        }
      ]
    },
    {
      "metadata": {
        "id": "0ZvGatL4qQda",
        "colab_type": "text"
      },
      "cell_type": "markdown",
      "source": [
        "### Model description\n",
        "\n",
        "Defining the generative process\n",
        "\n",
        "Writing the pseudo-programe for generating the data, then visualizing it with graphical model\n",
        "\n",
        "Specify all the distributions and their parameters\n",
        "\n",
        "Write down the joint probability equation of the model\n",
        "\n",
        "![alt text](https://drive.google.com/uc?export=view&id=1EpyIGvcpVI1ksbKVAfbH6omClQJrtR5m)"
      ]
    },
    {
      "metadata": {
        "id": "m7N9EXoyq5C-",
        "colab_type": "text"
      },
      "cell_type": "markdown",
      "source": [
        "### Inference Method\n",
        "\n",
        "Defining the inference process, drawing the graphical model of the inference\n",
        "\n",
        "Which method are used for inferring the latent variables?\n",
        "\n",
        "How to building the model programmatically (coding ...)?"
      ]
    },
    {
      "metadata": {
        "id": "vFfB2U2a0yn6",
        "colab_type": "code",
        "colab": {}
      },
      "cell_type": "code",
      "source": [
        "# your code for building the model\n",
        "# and doing the inference"
      ],
      "execution_count": 0,
      "outputs": []
    },
    {
      "metadata": {
        "id": "wijU_JAaq6bG",
        "colab_type": "text"
      },
      "cell_type": "markdown",
      "source": [
        "## Experiment"
      ]
    },
    {
      "metadata": {
        "id": "IGH7iQfcsKaH",
        "colab_type": "text"
      },
      "cell_type": "markdown",
      "source": [
        "### Experiments setup"
      ]
    },
    {
      "metadata": {
        "id": "X_Az8m3ZsRR_",
        "colab_type": "text"
      },
      "cell_type": "markdown",
      "source": [
        "### Results"
      ]
    },
    {
      "metadata": {
        "id": "OW1YvhHOsTTe",
        "colab_type": "text"
      },
      "cell_type": "markdown",
      "source": [
        "## Discussion and conclusion"
      ]
    }
  ]
}